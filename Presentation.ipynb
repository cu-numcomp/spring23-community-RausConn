{
 "cells": [
  {
   "attachments": {},
   "cell_type": "markdown",
   "metadata": {},
   "source": [
    "## FEniCS/Dolfin\n",
    "\n",
    "Connor Rauscher\n",
    "\n",
    "#### What is FEniCS?\n",
    "\n",
    "Fenics is an open-source project originally created by the University of Chicago and Chalmers University of Technology, but has since spread and is in active development by many universities around the world, along with the Argonne National Laboratory. It is a collection of scientific computing software that is made to allow automated solutions of differential equations, along with other mathematical operations. The software is mainly used for computational meshes, finite element analysis, partial differential equations, and numerical linear algebra. FEniCS is created with high performance and distributed computing using OpenMP in mind.\n",
    "\n",
    "Dolfin is the main component of FEniCS, which provides algorithms and data structures which can make programming linear algebra and finite element analysis programs easier."
   ]
  },
  {
   "attachments": {},
   "cell_type": "markdown",
   "metadata": {},
   "source": [
    "#### Installation and demo\n",
    "The easiest way to install FEniCS is their Docker image, but source is available to compile from as well. These can be found on their Github page, or at https://fenicsproject.org/download/. \n",
    "\n",
    "Below is an example of a program that solves the Poisson equation on a unit square using the finite element method.\n",
    "\n",
    "The poisson equation is a type of partial differential equation that is used to solve for scalar fields. Scalar fields are functions that assign a value to every point in space. The poisson equation solves for the scalar field that satisfies the following equation:\n",
    "$$\n",
    "-\\Delta u = f\n",
    "$$\n",
    "where $u$ is the scalar field, $\\Delta$ is the Laplacian operator, and $f$ is a given function. The Laplacian operator is the second derivative of the scalar field with respect to space. The poisson equation is often used to solve for the electric potential in electrostatics, or the temperature in heat conduction."
   ]
  },
  {
   "cell_type": "code",
   "execution_count": 111,
   "metadata": {},
   "outputs": [],
   "source": [
    "from fenics import *\n",
    "# from dolfin import * also works, as most classes are imported from dolfin\n",
    "import matplotlib.pyplot as plt"
   ]
  },
  {
   "attachments": {},
   "cell_type": "markdown",
   "metadata": {},
   "source": [
    "This first major part of the code below is to define the boundary and problem space. We are using a square mesh, made of many triangles. Our boundary is defined as the edges of the square, and our problem space is the interior of the square."
   ]
  },
  {
   "cell_type": "code",
   "execution_count": 112,
   "metadata": {},
   "outputs": [],
   "source": [
    "# Create mesh and define function space\n",
    "# UnitSquareMesh is a triangle mesh of a unit square that takes in the number of cells in the x and y directions. Total triangles = 2*nx*ny, since it's a square.\n",
    "mesh = UnitSquareMesh(32, 32)\n",
    "# FunctionSpace is a class that represents a finite element function space. It takes in a mesh, an element family, and degrees in this case.\n",
    "V = FunctionSpace(mesh, \"Lagrange\", 1)\n",
    "\n",
    "# Define Dirichlet boundary (x = 0 or x = 1)\n",
    "# The Dirichlet boundary is the boundary of the domain, so we define a function that returns true if x is on the boundary.\n",
    "def boundary(x):\n",
    "    # DOLFIN_EPS is a very small number, it's used to avoid floating point errors\n",
    "    return x[0] < DOLFIN_EPS or x[0] > 1.0 - DOLFIN_EPS\n",
    "\n",
    "# Define boundary condition\n",
    "# On the boundary, the solution is 0.0\n",
    "u0 = Constant(0.0)\n",
    "# DirichletBC is a class that represents a Dirichlet boundary condition. It takes in a function space, a value on the boundary(0.0), and a boundary function that specifies boundary points.\n",
    "bc = DirichletBC(V, u0, boundary)"
   ]
  },
  {
   "attachments": {},
   "cell_type": "markdown",
   "metadata": {},
   "source": [
    "Now that we have our problem space, we can define our problem. We are solving the Poisson equation, which is defined as:\n",
    "\n",
    "$$ -\\nabla^2 u = f $$\n",
    "\n",
    "where $u$ is the unknown function, and $f$ is the right hand side of the equation. Using FEniCS, we will solve this equation using the finite element method. The finite element method is a numerical method for solving partial differential equations.\n",
    "\n",
    "\n"
   ]
  },
  {
   "cell_type": "code",
   "execution_count": 113,
   "metadata": {},
   "outputs": [],
   "source": [
    "# Define variational problem\n",
    "\n",
    "# These are the trial and test functions. They are defined on the function space V. They are used to represent the solution to the variational problem and the test function.\n",
    "# The solution is found by minimizing the inner product between u and v.\n",
    "u = TrialFunction(V)\n",
    "v = TestFunction(V)\n",
    "\n",
    "# f is a 2-dimensional gaussian function centered at (0.5, 0.5) with a standard deviation of 0.02. It's used for the right hand side of the variational problem.\n",
    "# x[0] and x[1] are the x and y coordinates of the point. Degree is the degree of the polynomial used to approximate the function.\n",
    "f = Expression(\"10*exp(-(pow(x[0] - 0.5, 2) + pow(x[1] - 0.5, 2)) / 0.02)\", degree=2)\n",
    "# g is a sine function with a frequency of 5. It's used for the right hand side of the variational problem.\n",
    "g = Expression(\"sin(5*x[0])\", degree=2)\n",
    "\n",
    "# Hot plate example(explained below)\n",
    "# f = Expression(\"x[0] > 0.4 && x[0] < 0.6 && x[1] > 0.4 && x[1] < 0.6 ? 10.0 : 0.0\", degree=2)\n",
    "# g = Constant(0)\n",
    "\n",
    "\n",
    "# These expressions are the weak form of the Poisson equation. a represents the left hand side of the equation, and L represents the right hand side.\n",
    "# dx and ds represent integration over the domain and boundary respectively. These are part of FEniCS and don't have to be user-specified.\n",
    "a = inner(grad(u), grad(v))*dx\n",
    "L = f*v*dx + g*v*ds\n",
    "\n",
    "\n",
    "# Compute solution\n",
    "# Function is a class that represents a finite element function. It takes in a function space.\n",
    "u = Function(V)\n",
    "# solve is a function that solves a variational problem. It takes in a variational problem, a function to store the solution, and a boundary condition.\n",
    "solve(a == L, u, bc)"
   ]
  },
  {
   "attachments": {},
   "cell_type": "markdown",
   "metadata": {},
   "source": [
    "$\\textbf{Note}$: f and g are functions that meet the boundary conditions. The definitions above are just an example given by FEniCS.\n",
    "\n",
    "Here is another, simpler example equation for heat source at center region of a plate and perfectly insulated boundary:\n",
    "\n",
    "This is much easier to imagine than the previous example. It is a heat source ternary function, where the heat source is 10 in the center region, and 0 everywhere else. The boundary conditions are that the temperature is 0 on the boundary.\n",
    "\n",
    "f = Expression(\"x[0] > 0.4 && x[0] < 0.6 && x[1] > 0.4 && x[1] < 0.6 ? 10.0 : 0.0\", degree=2)\n",
    "\n",
    "g = Constant(0)"
   ]
  },
  {
   "cell_type": "code",
   "execution_count": 114,
   "metadata": {},
   "outputs": [
    {
     "data": {
      "image/png": "[encoded data removed]",
      "text/plain": [
       "<Figure size 576x576 with 1 Axes>"
      ]
     },
     "metadata": {
      "needs_background": "light"
     },
     "output_type": "display_data"
    }
   ],
   "source": [
    "# Save solution in VTK format (Can be read by programs like Paraview which are designed for scientific visualization)\n",
    "file = File(\"poisson.pvd\")\n",
    "file << u\n",
    "\n",
    "# Plot solution using matplotlib\n",
    "plt.figure(figsize=(8, 8))\n",
    "plot(u)\n",
    "plt.show()\n"
   ]
  },
  {
   "attachments": {},
   "cell_type": "markdown",
   "metadata": {},
   "source": [
    "Above is the final plot given after solving the equation. The default function above doesn't seem to represent anything, it is just an example function given by FEniCS. If you run the hot plate example, however, you will end up with this plot:\n",
    "\n",
    "![plot](./images/plot.png)"
   ]
  },
  {
   "attachments": {},
   "cell_type": "markdown",
   "metadata": {},
   "source": [
    "It's pretty cool to see the heat source in the center region, and the temperature drop off as you get further away from the center. The heat source is 10 in the center region, and 0 everywhere else, but you can still see how the heat from the center has spread out. "
   ]
  },
  {
   "attachments": {},
   "cell_type": "markdown",
   "metadata": {},
   "source": [
    "### Other examples\n",
    "\n",
    "FEniCS can do much more than just solve the Poisson equation. It can also solve many other types of equations, including ordinary differential equations, and linear algebra equations. Below are a few images of some demos that FEniCS has. Many of these demos are much more complicated than the one above, which is why I chose to go more in depth with the Poisson equation than these demos."
   ]
  },
  {
   "attachments": {},
   "cell_type": "markdown",
   "metadata": {},
   "source": [
    "#### Meshes\n",
    "\n",
    "One of the most powerful parts of FEniCS is the ability to create meshes easily. Below are a few examples of built-in meshes that FEniCS has. These meshes can be used to solve and plot many different types of equations, just like the Poisson equation above. Custom meshes are also able to be created and used with FEniCS.\n",
    "\n",
    "<!-- insert meshes.png as 800x600 image using HTML -->\n",
    "<img src='images/meshes.png' width=\"650\" height=\"400\" />\n"
   ]
  },
  {
   "attachments": {},
   "cell_type": "markdown",
   "metadata": {},
   "source": [
    "#### Navier-Stokes\n",
    "\n",
    "Navier-Stokes is a type of partial differential equation that is used to solve for the flow of a fluid. It is a system of partial differential equations that is used to solve for the velocity and pressure of a fluid. A demo is included that solves the navier-stokes equation for flow around a corner. \n",
    "\n",
    "<!-- add navstokes.png as 300x300px -->\n",
    "<img src=\"./images/navstokes2.png\" width=\"300\" height=\"300\">\n",
    "<img src=\"./images/navstokes.png\" width=\"300\" height=\"300\">\n",
    "\n",
    "Along with this, another demo is included that solves the navier-stokes equation for flow around a custom dolphin mesh. These demos are able to be run using the FEniCS Docker image, and are included in the FEniCS source code. They run in just a few seconds.\n",
    "\n",
    "<!-- add dolphin2.png, dolphin1.png, dolphin3.png as 300x300 each -->\n",
    "<img src=\"./images/dolphin2.png\" width=\"300\" height=\"300\">\n",
    "<img src=\"./images/dolphin1.png\" width=\"300\" height=\"300\">\n",
    "<img src=\"./images/dolphin3.png\" width=\"300\" height=\"300\">"
   ]
  },
  {
   "attachments": {},
   "cell_type": "markdown",
   "metadata": {},
   "source": [
    "#### Optimization\n",
    "\n",
    "FEniCS is also useful for solving optimization problems using its built-in meshes and functions. The optimization demo included with FEniCS uses the adjoint method to optimize a starting mesh to mold it toward a target mesh. Using a goal function that measures the difference between the current solution and a target function, the script iteratively solves a forward and adjoint problem to update the mesh until convergence. Below is the starting point, the adjoint mesh, the target, and the optimized solution. \n",
    "\n",
    "<!-- display optimize1.png, optimize2.png, optimize3.png, optimize4.png as 300x300px -->\n",
    "<img src=\"./images/optimize1.png\" width=\"300\" height=\"300\">\n",
    "<img src=\"./images/optimize2.png\" width=\"300\" height=\"300\">\n",
    "<img src=\"./images/optimize3.png\" width=\"300\" height=\"300\">\n",
    "<img src=\"./images/optimize4.png\" width=\"300\" height=\"300\">"
   ]
  },
  {
   "attachments": {},
   "cell_type": "markdown",
   "metadata": {},
   "source": [
    "### Proposal\n",
    "\n",
    "One interesting project that could be done using FEniCS would be simulating flow through different porous materials. We would create custom meshes to represent the porousness of different mediums and use FEniCS to solve the Navier-Stokes equations for fluid flow passing through them.\n",
    "\n",
    "The results of the simulation would be presented in a figure showing the pressure colors and velocity vectors on the mesh. The x- and y-axes would represent the spatial dimensions of the mesh, while the length and direction of the vectors would represent the magnitude and direction of the fluid flow. The color would represent pressure buildup as seen in the navier-stokes examples."
   ]
  }
 ],
 "metadata": {
  "kernelspec": {
   "display_name": "Python 3",
   "language": "python",
   "name": "python3"
  },
  "language_info": {
   "codemirror_mode": {
    "name": "ipython",
    "version": 3
   },
   "file_extension": ".py",
   "mimetype": "text/x-python",
   "name": "python",
   "nbconvert_exporter": "python",
   "pygments_lexer": "ipython3",
   "version": "3.6.9"
  },
  "orig_nbformat": 4
 },
 "nbformat": 4,
 "nbformat_minor": 2
}
